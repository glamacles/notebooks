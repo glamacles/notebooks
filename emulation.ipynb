{
 "cells": [
  {
   "cell_type": "markdown",
   "id": "776fcff3-538d-4104-b14f-0ca3834c156f",
   "metadata": {},
   "source": [
    "# Emulation\n",
    "- Objective: Approximate the ouptut of a computationally expensive model\n",
    "- Emulators can have different levels of generality\n",
    "- Some emulators are tailored to a specific scenario such as a specific glacier\n",
    "- Here we'll look at emulators that are aimed at being more general stand ins for expensive models\n"
   ]
  },
  {
   "cell_type": "markdown",
   "id": "e08e87e3-27f9-4982-8465-ae7645927010",
   "metadata": {},
   "source": [
    "# IGM\n",
    "- Approximates ice flow velocity using a CNN\n",
    "- All inputs / outputs defined on grid\n",
    "- 10 vertical spatial layers"
   ]
  },
  {
   "cell_type": "markdown",
   "id": "fbcc384f-f27f-4bc8-a72a-0add8694de4d",
   "metadata": {},
   "source": [
    "<div>\n",
    "<img src=\"images/igm1.png\" width=\"1000\"/>\n",
    "</div>\n"
   ]
  },
  {
   "cell_type": "markdown",
   "id": "177b5dd2-3d2b-46d1-979b-267945273a31",
   "metadata": {},
   "source": [
    "### Inputs:\n",
    "- Ice thickness $h$\n",
    "- Surface $s$\n",
    "- Rate factor $A$\n",
    "- Sliding coefficient $c$\n",
    "- Spatial resolution $H$\n",
    "### Outputs:\n",
    "- x-component of velocity $u$\n",
    "- y-component of velocity $v$"
   ]
  },
  {
   "cell_type": "markdown",
   "id": "a0fa73a3-1857-45b7-9e4a-dab9f2ae97c8",
   "metadata": {},
   "source": [
    "<div>\n",
    "<img src=\"images/igm2.png\" width=\"1000\"/>\n",
    "</div>\n"
   ]
  },
  {
   "cell_type": "markdown",
   "id": "79d58250-9b8d-4ee1-9893-6f5fd81bc497",
   "metadata": {},
   "source": [
    "## PINN Loss function\n",
    "- Solving for ice velocity can be posed as minimization problem\n",
    "- The varitional principle for momentum balance is given by\n",
    "  $$ J(\\pmb{u}) = \\int_{\\Omega} \\left [ \\frac{2n}{n+1} \\eta (\\dot{\\epsilon}^2) \\dot{\\epsilon}^2 + \\rho g \\pmb{u} \\cdot \\nabla{s}   \\right ] \\; d \\Omega + \\int_{\\Gamma_b} \\frac{c}{m+1} (\\pmb{u} \\cdot \\pmb{u})^{\\frac{m+1}{2}} \\; d \\Gamma $$\n",
    "- This serves as a natural loss function for training the CNN\n",
    "- In IGM tensor $\\dot{\\epsilon}$ is simplified using the first order approxmiation"
   ]
  },
  {
   "cell_type": "code",
   "execution_count": null,
   "id": "c0c44fc1-d16f-4e4a-8cf3-0acd9c646901",
   "metadata": {},
   "outputs": [],
   "source": []
  }
 ],
 "metadata": {
  "kernelspec": {
   "display_name": "Python 3 (ipykernel)",
   "language": "python",
   "name": "python3"
  },
  "language_info": {
   "codemirror_mode": {
    "name": "ipython",
    "version": 3
   },
   "file_extension": ".py",
   "mimetype": "text/x-python",
   "name": "python",
   "nbconvert_exporter": "python",
   "pygments_lexer": "ipython3",
   "version": "3.12.3"
  }
 },
 "nbformat": 4,
 "nbformat_minor": 5
}
